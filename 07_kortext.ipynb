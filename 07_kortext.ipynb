{
 "cells": [
  {
   "cell_type": "code",
   "execution_count": 3,
   "metadata": {},
   "outputs": [],
   "source": [
    "# %config InlineBackend.figure_format = \"retina\"\n",
    "%config InlineBackend.figure_formats = [\"pdf\", \"svg\"]\n",
    "from preamble import *"
   ]
  },
  {
   "cell_type": "markdown",
   "metadata": {},
   "source": [
    "### 전처리"
   ]
  },
  {
   "cell_type": "code",
   "execution_count": 4,
   "metadata": {},
   "outputs": [],
   "source": [
    "df_train = pd.read_csv('data/ratings_train.txt', \n",
    "                        delimiter=\"\\t\", \n",
    "                        keep_default_na=False) # 전처리할 시간 없어서 na값 우선 없애자\n",
    "df_test = pd.read_csv('data/ratings_test.txt', \n",
    "                        delimiter=\"\\t\", \n",
    "                        keep_default_na=False)"
   ]
  },
  {
   "cell_type": "code",
   "execution_count": 5,
   "metadata": {},
   "outputs": [
    {
     "name": "stdout",
     "output_type": "stream",
     "text": [
      "150000 50000\n"
     ]
    }
   ],
   "source": [
    "text_train, y_train = df_train['document'].values, df_train['label'].values # 기본은 series로 반환 근데 특징추출하려면 시리즈 X 그래서 .values\n",
    "text_test, y_test = df_test['document'].values, df_test['label'].values \n",
    "print(len(text_train), len(text_test))"
   ]
  },
  {
   "cell_type": "code",
   "execution_count": 6,
   "metadata": {},
   "outputs": [],
   "source": [
    "# from sklearn.ensemble import RandomForestClassifier\n",
    "\n",
    "# rf = RandomForestClassifier()\n",
    "# rf.fit(text_train, y_train)\n",
    "# rf.score(text_test, y_test)\n",
    "# # 결과 : could not convert string to float: '아 더빙.. 진짜 짜증나네요 목소리' \n",
    "# # 한국어는 float으로 바꾸는 법이 없다(영어는 돼) -> 그래서 특징추출을 해줘야 함 - 한국어를 숫자로 바꾸자 - 그럼 어떻게?"
   ]
  },
  {
   "cell_type": "markdown",
   "metadata": {},
   "source": [
    "### 특징추출"
   ]
  },
  {
   "cell_type": "code",
   "execution_count": 6,
   "metadata": {},
   "outputs": [
    {
     "name": "stdout",
     "output_type": "stream",
     "text": [
      "Requirement already satisfied: konlpy in c:\\users\\user\\appdata\\roaming\\python\\python312\\site-packages (0.6.0)\n",
      "Requirement already satisfied: JPype1>=0.7.0 in c:\\users\\user\\appdata\\roaming\\python\\python312\\site-packages (from konlpy) (1.5.1)\n",
      "Requirement already satisfied: lxml>=4.1.0 in c:\\users\\user\\appdata\\roaming\\python\\python312\\site-packages (from konlpy) (5.3.0)\n",
      "Requirement already satisfied: numpy>=1.6 in c:\\devtool\\anaconda3\\envs\\conda1\\lib\\site-packages (from konlpy) (2.2.0)\n",
      "Requirement already satisfied: packaging in c:\\users\\user\\appdata\\roaming\\python\\python312\\site-packages (from JPype1>=0.7.0->konlpy) (24.1)\n",
      "Note: you may need to restart the kernel to use updated packages.\n"
     ]
    }
   ],
   "source": [
    "%pip install konlpy"
   ]
  },
  {
   "cell_type": "markdown",
   "metadata": {},
   "source": [
    "코퍼스 = 말뭉치\n",
    "BOW : count"
   ]
  },
  {
   "cell_type": "code",
   "execution_count": 7,
   "metadata": {},
   "outputs": [
    {
     "name": "stdout",
     "output_type": "stream",
     "text": [
      "형태소 : ['한국어', '분석', '을', '시작', '해봐요', '!']\n",
      "품사 : [('한국어', 'Noun'), ('분석', 'Noun'), ('을', 'Josa'), ('시작', 'Noun'), ('해봐요', 'Verb'), ('!', 'Punctuation')]\n",
      "nouns : ['한국어', '분석', '시작']\n"
     ]
    }
   ],
   "source": [
    "from konlpy.tag import Okt\n",
    "okt = Okt()\n",
    "ko_text = '한국어 분석을 시작해봐요!'\n",
    "morphs = okt.morphs(ko_text)\n",
    "pos = okt.pos(ko_text)\n",
    "nouns = okt.nouns(ko_text)\n",
    "print(f'형태소 : {morphs}')\n",
    "print(f'품사 : {pos}')\n",
    "print(f'nouns : {nouns}')\n"
   ]
  },
  {
   "cell_type": "code",
   "execution_count": 8,
   "metadata": {},
   "outputs": [],
   "source": [
    "okt = Okt()\n",
    "def okt_tokenizer(text):\n",
    "  return okt.morphs(text)"
   ]
  },
  {
   "cell_type": "markdown",
   "metadata": {},
   "source": [
    "max_df : 전체에서 90% 이상 있으면 버려라 "
   ]
  },
  {
   "cell_type": "code",
   "execution_count": 16,
   "metadata": {},
   "outputs": [],
   "source": [
    "from sklearn.feature_extraction.text import CountVectorizer # vectorize : 양자화 / 양으로 샐 수 없는 것을 양(量)으로 바꾼다\n",
    "# 행위를 전달해줘야 함 Okt() 근데 이건 객체임 그래서 함수를 만들어줘야 해 그럼 필요할때 불러쓸거임 매개변수도 알아서 넣음\n",
    "# 아무말 없으면 지가 가지고 있는 영문 tokenizer를 사용함\n",
    "vectorizer = CountVectorizer(tokenizer=okt_tokenizer, \n",
    "                             token_pattern=None,\n",
    "                             min_df=5,\n",
    "                             max_df=0.9) \n",
    "X_train = vectorizer.fit_transform(text_train) # 데이터의 인식을 여기서 처음함 그래서 그 이전에 tokenizer를 지정해줘야해 default는 영문으로 되어 있다\n",
    "X_test = vectorizer.fit_transform(text_test)  # 훈련데이터 score : 0.57..."
   ]
  },
  {
   "cell_type": "code",
   "execution_count": 22,
   "metadata": {},
   "outputs": [],
   "source": [
    "from sklearn.feature_extraction.text import TfidfVectorizer\n",
    "vectorizer = TfidfVectorizer(tokenizer=okt_tokenizer, \n",
    "                             token_pattern=None,\n",
    "                             ngram_range=(1,2),  # ngram 적용 전 : 0.6427048972941163 적용 후 : 0.8147203124130287\n",
    "                             min_df=5,\n",
    "                             max_df=0.9) \n",
    "X_train = vectorizer.fit_transform(text_train)\n",
    "X_test = vectorizer.fit_transform(text_test)"
   ]
  },
  {
   "cell_type": "code",
   "execution_count": 23,
   "metadata": {},
   "outputs": [
    {
     "data": {
      "text/plain": [
       "0.8147203124130287"
      ]
     },
     "execution_count": 23,
     "metadata": {},
     "output_type": "execute_result"
    }
   ],
   "source": [
    "# from sklearn.tree import DecisionTreeClassifier\n",
    "from sklearn.linear_model import LinearRegression\n",
    "\n",
    "# tree = DecisionTreeClassifier()\n",
    "# tree.fit(X_train, y_train)\n",
    "lr = LinearRegression()\n",
    "lr.fit(X_train, y_train)\n",
    "lr.score(X_train, y_train)"
   ]
  },
  {
   "cell_type": "code",
   "execution_count": null,
   "metadata": {},
   "outputs": [],
   "source": []
  }
 ],
 "metadata": {
  "kernelspec": {
   "display_name": "conda1",
   "language": "python",
   "name": "python3"
  },
  "language_info": {
   "codemirror_mode": {
    "name": "ipython",
    "version": 3
   },
   "file_extension": ".py",
   "mimetype": "text/x-python",
   "name": "python",
   "nbconvert_exporter": "python",
   "pygments_lexer": "ipython3",
   "version": "3.12.7"
  }
 },
 "nbformat": 4,
 "nbformat_minor": 2
}
